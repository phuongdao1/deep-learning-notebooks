{
 "cells": [
  {
   "cell_type": "code",
   "execution_count": 3,
   "metadata": {},
   "outputs": [
    {
     "name": "stdout",
     "output_type": "stream",
     "text": [
      "Extracting /tmp/data/train-images-idx3-ubyte.gz\n",
      "Extracting /tmp/data/train-labels-idx1-ubyte.gz\n",
      "Extracting /tmp/data/t10k-images-idx3-ubyte.gz\n",
      "Extracting /tmp/data/t10k-labels-idx1-ubyte.gz\n"
     ]
    }
   ],
   "source": [
    "import tensorflow as tf\n",
    "import numpy as np\n",
    "import matplotlib.pyplot as plt\n",
    "import math\n",
    "\n",
    "# Import MNIST data\n",
    "from tensorflow.examples.tutorials.mnist import input_data\n",
    "mnist = input_data.read_data_sets(\"/tmp/data\", one_hot=True)"
   ]
  },
  {
   "cell_type": "code",
   "execution_count": 4,
   "metadata": {},
   "outputs": [
    {
     "name": "stdout",
     "output_type": "stream",
     "text": [
      "(784,)\n"
     ]
    }
   ],
   "source": [
    "print(mnist.train.images[0].shape)"
   ]
  },
  {
   "cell_type": "code",
   "execution_count": 4,
   "metadata": {},
   "outputs": [
    {
     "data": {
      "text/plain": [
       "array([ 0.,  0.,  0.,  0.,  0.,  0.,  0.,  0.,  1.,  0.])"
      ]
     },
     "execution_count": 4,
     "metadata": {},
     "output_type": "execute_result"
    }
   ],
   "source": [
    "mnist.test.labels[998]"
   ]
  },
  {
   "cell_type": "code",
   "execution_count": 6,
   "metadata": {
    "collapsed": true
   },
   "outputs": [],
   "source": [
    "learning_rate = 0.01\n",
    "training_iters = 1000  # Number of training batches\n",
    "batch_size = 128       # Batch size\n",
    "\n",
    "n_input = 784   # MNIST data input (img shape: 28*28)\n",
    "n_classes = 10  # MNIST total classes (0-9 digits)\n",
    "#dropout = 1.0   # Dropout, probability to keep units\n",
    "\n",
    "x = tf.placeholder(tf.float32, [None, n_input])\n",
    "y = tf.placeholder(tf.float32, [None, n_classes])\n",
    "#keep_prob = tf.placeholder(tf.float32)             # node keeping probability"
   ]
  },
  {
   "cell_type": "code",
   "execution_count": 7,
   "metadata": {
    "collapsed": true
   },
   "outputs": [],
   "source": [
    "# Conv2D wrapper, with bias and relu activation\n",
    "def conv2d(x, W, b, name, strides=1):\n",
    "    x = tf.nn.conv2d(x, W, strides=[1, strides, strides, 1], padding='SAME')\n",
    "    x = tf.nn.bias_add(x, b)\n",
    "    return tf.nn.relu(x,name=name)\n",
    "\n",
    "# Conv2D wrapper, with bias and relu activation\n",
    "def conv2d_norelu(x, W, b, name, strides=1):\n",
    "    x = tf.nn.conv2d(x, W, strides=[1, strides, strides, 1], padding='SAME')\n",
    "    x = tf.nn.bias_add(x, b, name=name)\n",
    "    return x\n",
    "\n",
    "# MaxPool2D wrapper\n",
    "def maxpool2d(x, name, k=2):\n",
    "    return tf.nn.max_pool(x, ksize=[1, k, k, 1], strides=[1, k, k, 1],padding='SAME',name=name)\n",
    "\n",
    "\n",
    "# Create model\n",
    "def conv_net(x, weights, biases):\n",
    "    # Reshape input picture\n",
    "    x = tf.reshape(x, shape=[-1, 28, 28, 1],name=\"reshapedInput\")\n",
    "\n",
    "    # Convolution Layer 1\n",
    "    conv1 = conv2d(x, weights['wc1'], biases['bc1'],name=\"conv1\")\n",
    "    conv1 = maxpool2d(conv1, k=2,name=\"maxpool1\")\n",
    "    print(conv1.get_shape())\n",
    "\n",
    "    # Convolution Layer 2\n",
    "    conv2 = conv2d(conv1, weights['wc2'], biases['bc2'],name=\"conv2\")\n",
    "    # Max Pooling (down-sampling)\n",
    "    conv2 = maxpool2d(conv2, k=2,name=\"maxpool2\")\n",
    "    print(conv2.get_shape())\n",
    "\n",
    "    # Fully connected layer\n",
    "    # Reshape conv2 output to fit fully connected layer input\n",
    "    fc1 = tf.reshape(conv2, [-1, weights['wd1'].get_shape().as_list()[0]])\n",
    "    fc1 = tf.add(tf.matmul(fc1, weights['wd1']), biases['bd1'])\n",
    "    fc1 = tf.nn.relu(fc1)\n",
    "    \n",
    "    fc2 = tf.add(tf.matmul(fc1, weights['wd2']), biases['bd2'])\n",
    "\n",
    "    # Output, class prediction\n",
    "    out = tf.add(tf.matmul(fc2, weights['out']), biases['out'],name=\"last10nodes\")\n",
    "    return out"
   ]
  },
  {
   "cell_type": "code",
   "execution_count": 8,
   "metadata": {},
   "outputs": [
    {
     "name": "stdout",
     "output_type": "stream",
     "text": [
      "(?, 14, 14, 16)\n",
      "(?, 7, 7, 32)\n"
     ]
    }
   ],
   "source": [
    "# Layer weights\n",
    "weights = {\n",
    "    # 5x5 conv, 1 input, 16 outputs\n",
    "    'wc1': tf.Variable(tf.random_normal([5, 5, 1, 16])),\n",
    "    # 5x5 conv, 32 inputs, 32 outputs\n",
    "    'wc2': tf.Variable(tf.random_normal([5, 5, 16, 32])),\n",
    "    # fully connected, 7*7*32 inputs, 128 outputs\n",
    "    'wd1': tf.Variable(tf.random_normal([7*7*32, 128])),\n",
    "    # fully connected, 128 inputs, 10 outputs\n",
    "    'wd2': tf.Variable(tf.random_normal([128, 10])),\n",
    "    'out': tf.Variable(tf.random_normal([10, n_classes]))\n",
    "}\n",
    "\n",
    "# Layer biases\n",
    "biases = {\n",
    "    'bc1': tf.Variable(tf.random_normal([16])),\n",
    "    'bc2': tf.Variable(tf.random_normal([32])),\n",
    "    'bd1': tf.Variable(tf.random_normal([128])),\n",
    "    'bd2': tf.Variable(tf.random_normal([10])),\n",
    "    'out': tf.Variable(tf.random_normal([n_classes]))\n",
    "}\n",
    "\n",
    "# Construct model\n",
    "pred = conv_net(x, weights, biases)\n",
    "y_pred = tf.nn.softmax(logits=pred)\n",
    "\n",
    "# Define loss and optimizer\n",
    "cost = tf.reduce_mean(tf.nn.softmax_cross_entropy_with_logits(logits=pred, labels=y))\n",
    "optimizer = tf.train.AdamOptimizer(learning_rate=learning_rate).minimize(cost)\n",
    "\n",
    "# Evaluate model\n",
    "correct_pred = tf.equal(tf.argmax(pred, 1), tf.argmax(y, 1))\n",
    "accuracy = tf.reduce_mean(tf.cast(correct_pred, tf.float32))\n",
    "\n",
    "# Initializing the variables\n",
    "init = tf.global_variables_initializer()"
   ]
  },
  {
   "cell_type": "code",
   "execution_count": null,
   "metadata": {
    "collapsed": true
   },
   "outputs": [],
   "source": []
  },
  {
   "cell_type": "code",
   "execution_count": null,
   "metadata": {},
   "outputs": [
    {
     "name": "stdout",
     "output_type": "stream",
     "text": [
      "Iter 50, Minibatch Loss= 814.240356, Training Accuracy= 0.74219, Validation Accuracy= 0.71167\n",
      "Iter 100, Minibatch Loss= 434.048553, Training Accuracy= 0.81250, Validation Accuracy= 0.81267\n",
      "Iter 150, Minibatch Loss= 443.458588, Training Accuracy= 0.82031, Validation Accuracy= 0.85133\n",
      "Iter 200, Minibatch Loss= 298.115448, Training Accuracy= 0.87500, Validation Accuracy= 0.86867\n",
      "Iter 250, Minibatch Loss= 331.478882, Training Accuracy= 0.88281, Validation Accuracy= 0.87500\n"
     ]
    }
   ],
   "source": [
    "# Launch the graph\n",
    "best_valid_acc=0.0\n",
    "\n",
    "with tf.Session() as sess:\n",
    "    sess.run(init)\n",
    "    step = 1\n",
    "    # Keep training until reach max iterations\n",
    "    while step < training_iters:\n",
    "        batch_x, batch_y = mnist.train.next_batch(batch_size)\n",
    "                \n",
    "        # Run optimization op (backprop)\n",
    "        sess.run(optimizer, feed_dict={x: batch_x, y: batch_y})\n",
    "\n",
    "        # Set the new graph as the default.\n",
    "        #with tf.Graph().as_default():\n",
    "            \n",
    "        if step % display_step == 0:\n",
    "            # Calculate batch loss and accuracy       \n",
    "            loss, acc= sess.run([cost, accuracy], feed_dict={x: batch_x, y: batch_y, keep_prob: dropout})\n",
    "            \n",
    "            valid_acc=sess.run(accuracy, feed_dict={x: mnist.test.images[:3000],\n",
    "                                                   y: mnist.test.labels[:3000],\n",
    "                                                   keep_prob: dropout})\n",
    "            \n",
    "            if (best_valid_acc<valid_acc) and (acc-valid_acc<=0.03):\n",
    "                tf.train.Saver().save(sess, \"/tmp/model.ckpt\")\n",
    "                best_valid_acc=valid_acc\n",
    "            \n",
    "            print(\"Iter \" + str(step) + \", Minibatch Loss= \" + \\\n",
    "                  \"{:.6f}\".format(loss) + \", Training Accuracy= \" + \\\n",
    "                  \"{:.5f}\".format(acc)+ \", Validation Accuracy= \" + \\\n",
    "                  \"{:.5f}\".format(valid_acc))\n",
    "        step += 1\n",
    "    print(\"Training Finished!\")\n",
    "\n",
    "    # Calculate accuracy for 256 mnist test images\n",
    "    print(\"Testing Accuracy after Training:\", \\\n",
    "        sess.run(accuracy, feed_dict={x: mnist.test.images[3001:],\n",
    "                                      y: mnist.test.labels[3001:],\n",
    "                                      keep_prob: dropout}))\n",
    "    \n",
    "    tf.train.Saver().restore(sess, \"/tmp/model.ckpt\")\n",
    "    print(\"Testing Accuracy Corresponding to Best Validation:\", \\\n",
    "        sess.run(accuracy, feed_dict={x: mnist.test.images[3001:],\n",
    "                                      y: mnist.test.labels[3001:],\n",
    "                                      keep_prob: dropout}))\n",
    "    \n",
    "    #tf.train.Saver().save(sess, \"/tmp/model.ckpt\")"
   ]
  },
  {
   "cell_type": "code",
   "execution_count": 9,
   "metadata": {
    "collapsed": true
   },
   "outputs": [],
   "source": [
    "#tf.train.Saver().restore(sess, \"/tmp/model.ckpt\")\n",
    "\n",
    "def normalize_image(x):\n",
    "    # Get the min and max values for all pixels in the input.\n",
    "    x_min = x.min()\n",
    "    x_max = x.max()\n",
    "\n",
    "    # Normalize so all values are between 0.0 and 1.0\n",
    "    x_norm = (x - x_min) / (x_max - x_min)\n",
    "\n",
    "    return x_norm\n",
    "\n",
    "def plot_image(image):\n",
    "    # Normalize the image so pixels are between 0.0 and 1.0\n",
    "    #img_norm = normalize_image(image)\n",
    "    \n",
    "    # Plot the image.\n",
    "    #plt.imshow(img_norm, interpolation='nearest')\n",
    "    #plt.imshow(image, interpolation='nearest')\n",
    "    plt.imshow(np.reshape(image,[28,28]), interpolation=\"nearest\", cmap=\"gray\")\n",
    "    #plt.imshow(np.reshape(image,[28,28]), cmap=\"gray\")\n",
    "    plt.show()"
   ]
  },
  {
   "cell_type": "code",
   "execution_count": 10,
   "metadata": {},
   "outputs": [
    {
     "name": "stdout",
     "output_type": "stream",
     "text": [
      "predicted digit of the image: 5\n"
     ]
    },
    {
     "data": {
      "image/png": "[encoded data removed]",
      "text/plain": [
       "<matplotlib.figure.Figure at 0x116cd1b70>"
      ]
     },
     "metadata": {},
     "output_type": "display_data"
    }
   ],
   "source": [
    "def createOcclusion(im,roi_size):     \n",
    "    iters = (28-roi_size+1) \n",
    "    batch_size = iters**2+1\n",
    "    batch = np.ndarray([batch_size, 28, 28,1])\n",
    "    i = 0\n",
    "    for r in range(0,iters):\n",
    "        for c in range(0,iters):\n",
    "            imOc = np.copy(im)\n",
    "            imOc[r:r+roi_size-1,c:c+roi_size-1,0] = 0            \n",
    "            batch[i] = imOc           \n",
    "            i = i + 1\n",
    "    batch[i] = np.copy(im)\n",
    "    return batch\n",
    "\n",
    "def softmax(w):\n",
    "    w = np.array(w)\n",
    "    maxes = np.amax(w, axis=1)\n",
    "    maxes = maxes.reshape(maxes.shape[0], 1)\n",
    "    e = np.exp(w-maxes) # The \"max trick\"\n",
    "    dist = e / np.sum(e, axis=1)[:,None]\n",
    "    return dist\n",
    "\n",
    "def createOcclusionHeatMap(img,roi_size):\n",
    "    with tf.Session() as sess:\n",
    "        tf.train.Saver().restore(sess, \"/tmp/model.ckpt\")\n",
    "        model=sess.graph\n",
    "        occulationBatch=createOcclusion(img,roi_size)\n",
    "        #print(len(occulationBatch))\n",
    "        feed_dict = {x: occulationBatch.reshape(len(occulationBatch),784),keep_prob: dropout}\n",
    "        y_preds, preds = sess.run([y_pred, pred],feed_dict=feed_dict)\n",
    "        \n",
    "        cl=np.argmax(y_preds[-1])\n",
    "        print(\"predicted digit of the image: \"+str(cl))\n",
    "        org_prob=np.max(y_preds[-1])\n",
    "        \n",
    "        count_map=np.zeros((28,28))\n",
    "        prob_map=np.zeros((28,28))\n",
    "        hmdim=(28-roi_size+1)\n",
    "        k=0\n",
    "        for i in range(hmdim):\n",
    "            for j in range(hmdim):\n",
    "                prob=y_preds[k][cl]\n",
    "                if prob<0.0:\n",
    "                    print(preds[k])\n",
    "                    print(y_preds[k])\n",
    "                k+=1\n",
    "                count_map[i:i+roi_size,j:j+roi_size]+=1.0\n",
    "                prob_map[i:i+roi_size,j:j+roi_size]+=prob\n",
    "\n",
    "        for i in range(28):\n",
    "            for j in range(28):\n",
    "                if count_map[i,j]>0:\n",
    "                    prob_map[i,j]/=count_map[i,j]\n",
    "                    prob_map[i,j]=1-prob_map[i,j]\n",
    "        \n",
    "        fig, axes = plt.subplots(nrows=1, ncols=2)\n",
    "        axes[0].matshow(img.reshape(28,28),cmap='gray')\n",
    "        pmap=axes[1].matshow(prob_map)\n",
    "        #plt.colorbar(pmap,ax=axes[1])\n",
    "        plt.show()\n",
    "        #print(prob_map)\n",
    "        \n",
    "        #fig = plt.figure(figsize=(5,5))\n",
    "        #fig1 = fig.add_subplot(1,2,1)\n",
    "        #fig1.matshow(img.reshape(28,28),cmap='gray')\n",
    "        #fig2 = fig.add_subplot(1,2,2)\n",
    "        #im2=fig2.matshow(prob_map)\n",
    "        #plt.colorbar(im2)\n",
    "        #plt.show()\n",
    "        #plt.matshow(img.reshape(28,28),cmap='gray')\n",
    "        #plot_image(img)      \n",
    "        #plot_image(prob_map.reshape(784))\n",
    "        #plt.matshow(prob_map)\n",
    "        #plt.colorbar()\n",
    "        #plt.show() \n",
    "\n",
    "createOcclusionHeatMap(mnist.train.images[1005].reshape(28,28,1),5)\n",
    "\n",
    "#createOcclusion(mnist.test.images[3003].reshape(28,28,1),5)\n",
    "#with tf.Session() as sess:"
   ]
  },
  {
   "cell_type": "code",
   "execution_count": 11,
   "metadata": {},
   "outputs": [
    {
     "name": "stdout",
     "output_type": "stream",
     "text": [
      "resized_image\n",
      "(?, 28, 28, 1)\n",
      "(?, 14, 14, 16)\n",
      "(?, 7, 7, 32)\n",
      "xshape\n",
      "(?, 784)\n",
      "image shape\n",
      "(1, 784)\n",
      "before\n",
      "pred1\n",
      "[[ 1716.2800293   2962.16870117  9998.14941406  4468.24414062  3236.34375\n",
      "    783.60974121 -4095.41259766  3299.21728516  2446.92895508\n",
      "   2422.57910156]]\n",
      "[[ 0.  0.  1.  0.  0.  0.  0.  0.  0.  0.]]\n",
      "gradient\n",
      "image\n",
      "(1, 784)\n",
      "tensor\n",
      "image shape\n",
      "(1, 784)\n"
     ]
    },
    {
     "data": {
      "image/png": "[encoded data removed]",
      "text/plain": [
       "<matplotlib.figure.Figure at 0x116e4e7b8>"
      ]
     },
     "metadata": {},
     "output_type": "display_data"
    },
    {
     "data": {
      "image/png": "[encoded data removed]",
      "text/plain": [
       "<matplotlib.figure.Figure at 0x116c4e898>"
      ]
     },
     "metadata": {},
     "output_type": "display_data"
    }
   ],
   "source": [
    "from tensorflow.python.framework import ops\n",
    "from tensorflow.python.ops import gen_nn_ops\n",
    "\n",
    "@ops.RegisterGradient(\"GuidedRelu\")\n",
    "def _GuidedReluGrad(op, grad):\n",
    "    return tf.where(0. < grad, gen_nn_ops._relu_grad(grad, op.outputs[0]), tf.zeros_like(grad))\n",
    "\n",
    "def guided_relu_map(img,feature=0):\n",
    "    \"\"\"\n",
    "    Find an image that maximizes the feature\n",
    "    given by the conv_id and feature number.\n",
    "\n",
    "    Parameters:\n",
    "    conv_id: Integer identifying the convolutional layer to\n",
    "             maximize. It is an index into conv_names.\n",
    "             If None then use the last fully-connected layer\n",
    "             before the softmax output.\n",
    "    feature: Index into the layer for the feature to maximize.\n",
    "    num_iteration: Number of optimization iterations to perform.\n",
    "    show_progress: Boolean whether to show the progress.\n",
    "    \"\"\"\n",
    "\n",
    "    # Load the Inception model. This is done for each call of\n",
    "    # this function because we will add a lot to the graph\n",
    "    # which will cause the graph to grow and eventually the\n",
    "    # computer will run out of memory.\n",
    "    #model = inception.Inception()\n",
    "    \n",
    "    with tf.Session() as sess:\n",
    "        tf.train.Saver().restore(sess, \"/tmp/model.ckpt\")\n",
    "        model=sess.graph\n",
    "        \n",
    "        # Reference to the tensor that takes the raw input image.\n",
    "        resized_image = model.get_tensor_by_name(\"reshapedInput:0\")\n",
    "        print(\"resized_image\")\n",
    "        print(resized_image.shape)\n",
    "\n",
    "        # Reference to the tensor for the predicted classes.\n",
    "        # This is the output of the final layer's softmax classifier.\n",
    "        #y_pred = model.y_pred\n",
    "        #print(\"y_pred\")\n",
    "        #print(y_pred.shape)\n",
    "        \n",
    "        tensor = model.get_tensor_by_name(\"last10nodes:0\")\n",
    "        #tensor = model.get_tensor_by_name(\"last10nodes:0\")\n",
    "        with tf.get_default_graph().gradient_override_map({'Relu': 'GuidedRelu'}):\n",
    "            #conv1 = conv2d_norelu(x, weights['wc1'], biases['bc1'],name=\"conv1\")\n",
    "            pred = conv_net(x, weights, biases, keep_prob)\n",
    "            y_pred = tf.nn.softmax(logits=pred)\n",
    "            \n",
    "            #loss1=tf.reduce_mean(tensor[:,feature])\n",
    "            #for i in range(10):\n",
    "                #if i!=feature:\n",
    "                    #loss1-=tf.maximum(tf.reduce_mean(tensor[:,i]),0)\n",
    "            ysoft = tf.nn.softmax(logits=pred)\n",
    "            #gradient = tf.gradients(tensor[0,feature], x)\n",
    "            gradient = tf.gradients(pred[0,feature], x)\n",
    "\n",
    "        # Generate a random image of the same size as the raw input.\n",
    "        # Each pixel is a small random value between 128 and 129,\n",
    "        # which is about the middle of the colour-range.\n",
    "        image_shape = resized_image.get_shape()\n",
    "        print(\"xshape\")\n",
    "        print(x.get_shape())\n",
    "        image=img.reshape(1,784)\n",
    "        print(\"image shape\")\n",
    "        print(image.shape)\n",
    "        #print(image[0])\n",
    "        #return 1\n",
    "\n",
    "        feed_dict = {x: image.reshape(1,784),keep_prob: dropout} \n",
    "        print(\"before\")\n",
    "        t_v,y, pred1,grad = sess.run([ tensor, y_pred ,pred,gradient],feed_dict=feed_dict) \n",
    "        print(\"pred1\")\n",
    "        print(pred1)\n",
    "        print(y)\n",
    "        print(\"gradient\")\n",
    "        #print(grad)\n",
    "        print(\"image\")\n",
    "        print(image.shape)\n",
    "        print(\"tensor\")\n",
    "\n",
    "        print(\"image shape\")\n",
    "        print(image.shape)\n",
    "        #print(\"grad shape\")\n",
    "        img=img.reshape(784)\n",
    "        img1=np.abs(grad[0].reshape(784))\n",
    "        img1/=np.max(img1)\n",
    "        img1[img1<=0.5]=0\n",
    "        '''\n",
    "        for i in range(784):\n",
    "            if img1[i]<=0.0 or img[i]<=0.1:\n",
    "                img1[i]=0\n",
    "        '''\n",
    "        plot_image(image.reshape(784))\n",
    "        plot_image(img1.reshape(784))\n",
    "\n",
    "guided_relu_map(mnist.test.images[990],np.argmax(mnist.test.labels[990]))"
   ]
  },
  {
   "cell_type": "code",
   "execution_count": 12,
   "metadata": {},
   "outputs": [
    {
     "name": "stdout",
     "output_type": "stream",
     "text": [
      "resized_image\n",
      "(?, 28, 28, 1)\n",
      "(?, 14, 14, 16)\n",
      "(?, 7, 7, 32)\n",
      "xshape\n",
      "(?, 784)\n",
      "image shape\n",
      "(1, 784)\n",
      "before\n",
      "pred1\n",
      "[[  157.13807678  2714.47290039  1155.82434082  2465.80029297\n",
      "    951.44024658  3025.89453125    33.35299301  -513.75793457\n",
      "   -105.44784546   798.03820801]]\n",
      "[[ 0.  0.  0.  0.  0.  1.  0.  0.  0.  0.]]\n",
      "gradient\n",
      "image\n",
      "(1, 784)\n",
      "tensor\n",
      "image shape\n",
      "(1, 784)\n"
     ]
    },
    {
     "data": {
      "image/png": "[encoded data removed]",
      "text/plain": [
       "<matplotlib.figure.Figure at 0x116ee8390>"
      ]
     },
     "metadata": {},
     "output_type": "display_data"
    },
    {
     "data": {
      "image/png": "[encoded data removed]",
      "text/plain": [
       "<matplotlib.figure.Figure at 0x116c30160>"
      ]
     },
     "metadata": {},
     "output_type": "display_data"
    }
   ],
   "source": [
    "guided_relu_map(mnist.train.images[980],np.argmax(mnist.train.labels[980]))"
   ]
  }
 ],
 "metadata": {
  "kernelspec": {
   "display_name": "Python 3",
   "language": "python",
   "name": "python3"
  },
  "language_info": {
   "codemirror_mode": {
    "name": "ipython",
    "version": 3
   },
   "file_extension": ".py",
   "mimetype": "text/x-python",
   "name": "python",
   "nbconvert_exporter": "python",
   "pygments_lexer": "ipython3",
   "version": "3.6.0"
  }
 },
 "nbformat": 4,
 "nbformat_minor": 1
}
